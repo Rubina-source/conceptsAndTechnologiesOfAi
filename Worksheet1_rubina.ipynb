{
  "nbformat": 4,
  "nbformat_minor": 0,
  "metadata": {
    "colab": {
      "provenance": []
    },
    "kernelspec": {
      "name": "python3",
      "display_name": "Python 3"
    },
    "language_info": {
      "name": "python"
    }
  },
  "cells": [
    {
      "cell_type": "code",
      "execution_count": 2,
      "metadata": {
        "colab": {
          "base_uri": "https://localhost:8080/"
        },
        "id": "p3liqoUUEbFU",
        "outputId": "db8698be-d700-4356-9eee-5dc1da9f133a"
      },
      "outputs": [
        {
          "output_type": "stream",
          "name": "stdout",
          "text": [
            "[[0 0]\n",
            " [0 0]]\n"
          ]
        }
      ],
      "source": [
        "# Ques 1\n",
        "# 1st question\n",
        "import numpy as np\n",
        "arr= np.random.randint(0,1,(2,2))\n",
        "print(arr)"
      ]
    },
    {
      "cell_type": "code",
      "source": [
        "# 2nd question\n",
        "import numpy as np\n",
        "import random\n",
        "arr= np.random.randint(1,2,(4,2))\n",
        "print(arr)\n"
      ],
      "metadata": {
        "colab": {
          "base_uri": "https://localhost:8080/"
        },
        "id": "uHVTM4SgFQ2n",
        "outputId": "14215dd6-41ad-4a94-bd76-dea5f02d30ff"
      },
      "execution_count": 3,
      "outputs": [
        {
          "output_type": "stream",
          "name": "stdout",
          "text": [
            "[[1 1]\n",
            " [1 1]\n",
            " [1 1]\n",
            " [1 1]]\n"
          ]
        }
      ]
    },
    {
      "cell_type": "code",
      "source": [
        "# 3rd 4th and 5th question\n",
        "import numpy as np\n",
        "filled_array = np.full((3, 3),fill_value= 7)\n",
        "print(filled_array)\n",
        "ones_like = np.ones_like(filled_array)\n",
        "print(ones_like)"
      ],
      "metadata": {
        "colab": {
          "base_uri": "https://localhost:8080/"
        },
        "id": "K3S4sE2mF0ZD",
        "outputId": "d3a6fa1b-6501-45c5-e95b-18f725a8a086"
      },
      "execution_count": 4,
      "outputs": [
        {
          "output_type": "stream",
          "name": "stdout",
          "text": [
            "[[7 7 7]\n",
            " [7 7 7]\n",
            " [7 7 7]]\n",
            "[[1 1 1]\n",
            " [1 1 1]\n",
            " [1 1 1]]\n"
          ]
        }
      ]
    },
    {
      "cell_type": "code",
      "source": [
        "# 6th ques\n",
        "import numpy as np\n",
        "new_list = [1,2,3,4]\n",
        "new_array = np.array(new_list)\n",
        "print(new_array)"
      ],
      "metadata": {
        "colab": {
          "base_uri": "https://localhost:8080/"
        },
        "id": "M_u1kac7F5F1",
        "outputId": "90a7b4c5-0b7b-4fa5-ea48-0c8a66d55336"
      },
      "execution_count": 5,
      "outputs": [
        {
          "output_type": "stream",
          "name": "stdout",
          "text": [
            "[1 2 3 4]\n"
          ]
        }
      ]
    },
    {
      "cell_type": "code",
      "source": [
        "# Part 2\n",
        "# Ques 1\n",
        "import numpy as np\n",
        "array_10_to_49 = np.arange(10, 50)\n",
        "print(array_10_to_49)"
      ],
      "metadata": {
        "colab": {
          "base_uri": "https://localhost:8080/"
        },
        "id": "2t8XSVJyF9Hl",
        "outputId": "f5f993ba-772d-44bf-8f60-ac6f5eb949b3"
      },
      "execution_count": 6,
      "outputs": [
        {
          "output_type": "stream",
          "name": "stdout",
          "text": [
            "[10 11 12 13 14 15 16 17 18 19 20 21 22 23 24 25 26 27 28 29 30 31 32 33\n",
            " 34 35 36 37 38 39 40 41 42 43 44 45 46 47 48 49]\n"
          ]
        }
      ]
    },
    {
      "cell_type": "code",
      "source": [
        "# Part 2\n",
        "# Ques 2\n",
        "import numpy as np\n",
        "array_0_8= np.reshape((np.arange(0,9)),(3,3))\n",
        "print(array_0_8)"
      ],
      "metadata": {
        "colab": {
          "base_uri": "https://localhost:8080/"
        },
        "id": "Y2onMBeLGb43",
        "outputId": "84b4a68b-00da-4b7f-e726-017cb631ee17"
      },
      "execution_count": 7,
      "outputs": [
        {
          "output_type": "stream",
          "name": "stdout",
          "text": [
            "[[0 1 2]\n",
            " [3 4 5]\n",
            " [6 7 8]]\n"
          ]
        }
      ]
    },
    {
      "cell_type": "code",
      "source": [
        "# Part 2\n",
        "# Ques 3\n",
        "import numpy as np\n",
        "id_matrix = np.eye(3)\n",
        "print(id_matrix)"
      ],
      "metadata": {
        "colab": {
          "base_uri": "https://localhost:8080/"
        },
        "id": "CFa88vcaGeNv",
        "outputId": "13ce0924-b1de-4c95-a54d-8588615ba602"
      },
      "execution_count": 8,
      "outputs": [
        {
          "output_type": "stream",
          "name": "stdout",
          "text": [
            "[[1. 0. 0.]\n",
            " [0. 1. 0.]\n",
            " [0. 0. 1.]]\n"
          ]
        }
      ]
    },
    {
      "cell_type": "code",
      "source": [
        "# Part 2\n",
        "# Ques 4\n",
        "import numpy as np\n",
        "random_array = np.random.rand(30)\n",
        "mean_arr = random_array.mean()\n",
        "print(mean_arr)"
      ],
      "metadata": {
        "colab": {
          "base_uri": "https://localhost:8080/"
        },
        "id": "7-dQxJhbGhWl",
        "outputId": "cca35b90-5c2e-4545-c4d9-863af2fed405"
      },
      "execution_count": 9,
      "outputs": [
        {
          "output_type": "stream",
          "name": "stdout",
          "text": [
            "0.437784320379876\n"
          ]
        }
      ]
    },
    {
      "cell_type": "code",
      "source": [
        "# Part 2\n",
        "# Ques 5\n",
        "import numpy as np\n",
        "array = np.random.randint(1,100,size=(10,10))\n",
        "min_val = array.min()\n",
        "max_val = array.max()\n",
        "print(\"The random elements array is: \",array)\n",
        "print(\"The min value of the matrix is:\",min_val)\n",
        "print(\"The max value of the matrix is:\",max_val)"
      ],
      "metadata": {
        "colab": {
          "base_uri": "https://localhost:8080/"
        },
        "id": "lRq5eRcSGnwz",
        "outputId": "a521e777-7e5b-4075-eb55-33cd481a0bc5"
      },
      "execution_count": 10,
      "outputs": [
        {
          "output_type": "stream",
          "name": "stdout",
          "text": [
            "The random elements array is:  [[75  7 22 99 22 84 23 54 52  9]\n",
            " [55 73 73 97 97  8 51 89 51  8]\n",
            " [98 77 44 42 59 84  5 96 23 34]\n",
            " [56 22 48 61 18 60 35 58 51 46]\n",
            " [13 39 24 65 17 49 47 48 92 61]\n",
            " [31 86 27 77 55 87 50 68 28 74]\n",
            " [62 79 30 51 53 38 12 52 66 69]\n",
            " [18 58 86 60 88 75 34 76 40 63]\n",
            " [ 8 83 16 74 86 12 67 63 13 17]\n",
            " [19 48 68 32 35  1 35 86 68 38]]\n",
            "The min value of the matrix is: 1\n",
            "The max value of the matrix is: 99\n"
          ]
        }
      ]
    },
    {
      "cell_type": "code",
      "source": [
        "# Part 2\n",
        "# Ques 6\n",
        "import numpy as np\n",
        "array = np.zeros((10,10))\n",
        "print(array)\n",
        "array[0][4]= 1\n",
        "print(array)"
      ],
      "metadata": {
        "colab": {
          "base_uri": "https://localhost:8080/"
        },
        "id": "V0KYxfELGrHq",
        "outputId": "e8242d19-fa56-452a-af05-83bd83b210d5"
      },
      "execution_count": 11,
      "outputs": [
        {
          "output_type": "stream",
          "name": "stdout",
          "text": [
            "[[0. 0. 0. 0. 0. 0. 0. 0. 0. 0.]\n",
            " [0. 0. 0. 0. 0. 0. 0. 0. 0. 0.]\n",
            " [0. 0. 0. 0. 0. 0. 0. 0. 0. 0.]\n",
            " [0. 0. 0. 0. 0. 0. 0. 0. 0. 0.]\n",
            " [0. 0. 0. 0. 0. 0. 0. 0. 0. 0.]\n",
            " [0. 0. 0. 0. 0. 0. 0. 0. 0. 0.]\n",
            " [0. 0. 0. 0. 0. 0. 0. 0. 0. 0.]\n",
            " [0. 0. 0. 0. 0. 0. 0. 0. 0. 0.]\n",
            " [0. 0. 0. 0. 0. 0. 0. 0. 0. 0.]\n",
            " [0. 0. 0. 0. 0. 0. 0. 0. 0. 0.]]\n",
            "[[0. 0. 0. 0. 1. 0. 0. 0. 0. 0.]\n",
            " [0. 0. 0. 0. 0. 0. 0. 0. 0. 0.]\n",
            " [0. 0. 0. 0. 0. 0. 0. 0. 0. 0.]\n",
            " [0. 0. 0. 0. 0. 0. 0. 0. 0. 0.]\n",
            " [0. 0. 0. 0. 0. 0. 0. 0. 0. 0.]\n",
            " [0. 0. 0. 0. 0. 0. 0. 0. 0. 0.]\n",
            " [0. 0. 0. 0. 0. 0. 0. 0. 0. 0.]\n",
            " [0. 0. 0. 0. 0. 0. 0. 0. 0. 0.]\n",
            " [0. 0. 0. 0. 0. 0. 0. 0. 0. 0.]\n",
            " [0. 0. 0. 0. 0. 0. 0. 0. 0. 0.]]\n"
          ]
        }
      ]
    },
    {
      "cell_type": "code",
      "source": [
        "# Part 2\n",
        "# Ques 7\n",
        "import numpy as np\n",
        "array = [1,2,0,0,4,0]\n",
        "array.reverse()\n",
        "# array.sort()\n",
        "print(array)\n"
      ],
      "metadata": {
        "colab": {
          "base_uri": "https://localhost:8080/"
        },
        "id": "-vhSzNO1GuNn",
        "outputId": "cc08ace9-326d-4ac7-fa80-de1908cd62d7"
      },
      "execution_count": 12,
      "outputs": [
        {
          "output_type": "stream",
          "name": "stdout",
          "text": [
            "[0, 4, 0, 0, 2, 1]\n"
          ]
        }
      ]
    },
    {
      "cell_type": "code",
      "source": [
        "# Part 2\n",
        "# Ques 8\n",
        "import numpy as np\n",
        "array = np.array([[1,2,3],[4,5,6],[7,8,9]])\n",
        "array[0,:]=1\n",
        "array[-1,:] =1\n",
        "array[:,0]=1\n",
        "array[:,-1]=1\n",
        "print(array)"
      ],
      "metadata": {
        "colab": {
          "base_uri": "https://localhost:8080/"
        },
        "id": "dEy827KKG-XH",
        "outputId": "66fd7313-eac3-4e77-a36c-ed4d9a50d6b5"
      },
      "execution_count": 13,
      "outputs": [
        {
          "output_type": "stream",
          "name": "stdout",
          "text": [
            "[[1 1 1]\n",
            " [1 5 1]\n",
            " [1 1 1]]\n"
          ]
        }
      ]
    },
    {
      "cell_type": "code",
      "source": [
        "# Part 2\n",
        "# Ques 9\n",
        "import numpy as np\n",
        "check = np.random.randint(0,1,(8,8))\n",
        "check[1::2, ::2] = 1\n",
        "check[::2, 1::2] = 1\n",
        "print(check)"
      ],
      "metadata": {
        "colab": {
          "base_uri": "https://localhost:8080/"
        },
        "id": "kpsoyGQkG-zx",
        "outputId": "a3a49142-230c-42c7-d707-ae5eaffa7603"
      },
      "execution_count": 14,
      "outputs": [
        {
          "output_type": "stream",
          "name": "stdout",
          "text": [
            "[[0 1 0 1 0 1 0 1]\n",
            " [1 0 1 0 1 0 1 0]\n",
            " [0 1 0 1 0 1 0 1]\n",
            " [1 0 1 0 1 0 1 0]\n",
            " [0 1 0 1 0 1 0 1]\n",
            " [1 0 1 0 1 0 1 0]\n",
            " [0 1 0 1 0 1 0 1]\n",
            " [1 0 1 0 1 0 1 0]]\n"
          ]
        }
      ]
    },
    {
      "cell_type": "code",
      "source": [
        "# Part 3\n",
        "# Ques 1\n",
        "import numpy as np\n",
        "x = np.array([[1,2],\n",
        "              [3,5]])\n",
        "y = np.array([[5,6]\n",
        "            , [7,8]])\n",
        "result1 = x+y\n",
        "result2 = np.add(x,y)\n",
        "print(result1)\n",
        "print(result2)\n",
        "\n",
        "v = np.array([9,10])\n",
        "w = np.array([11,12])\n",
        "result1 = np.add(v,w)\n",
        "print(result1)"
      ],
      "metadata": {
        "colab": {
          "base_uri": "https://localhost:8080/"
        },
        "id": "e3KKbAytHhdi",
        "outputId": "da5b99d7-6bfe-4c8b-a9af-ff1ec70f2dfa"
      },
      "execution_count": 15,
      "outputs": [
        {
          "output_type": "stream",
          "name": "stdout",
          "text": [
            "[[ 6  8]\n",
            " [10 13]]\n",
            "[[ 6  8]\n",
            " [10 13]]\n",
            "[20 22]\n"
          ]
        }
      ]
    },
    {
      "cell_type": "code",
      "source": [
        "# Part 3\n",
        "# Ques 2\n",
        "import numpy as np\n",
        "x = np.array([[1,2],\n",
        "              [3,5]])\n",
        "y = np.array([[5,6]\n",
        "            , [7,8]])\n",
        "result = np.subtract(x,y)\n",
        "print(result)\n",
        "\n",
        "v = np.array([9,10])\n",
        "w = np.array([11,12])\n",
        "result = np.subtract(v,w)\n",
        "print(result)"
      ],
      "metadata": {
        "colab": {
          "base_uri": "https://localhost:8080/"
        },
        "id": "h6tRyM5CH7WE",
        "outputId": "6b640ebc-fdde-4a09-a517-1852d4c4e9a4"
      },
      "execution_count": 16,
      "outputs": [
        {
          "output_type": "stream",
          "name": "stdout",
          "text": [
            "[[-4 -4]\n",
            " [-4 -3]]\n",
            "[-2 -2]\n"
          ]
        }
      ]
    },
    {
      "cell_type": "code",
      "source": [
        "# Part 3\n",
        "# Ques 4\n",
        "import numpy as np\n",
        "v = np.array([9,10])\n",
        "w = np.array([11,12])\n",
        "x = np.array([[1,2],\n",
        "              [3,5]])\n",
        "y = np.array([[5,6]\n",
        "            , [7,8]])\n",
        "\n",
        "square1 = np.square(v)\n",
        "square2 = np.square(w)\n",
        "square3 = np.square(x)\n",
        "square4 = np.square(y)\n",
        "print(square1,\"\\n\", square2,\"\\n\", square3,\"\\n\", square4)"
      ],
      "metadata": {
        "colab": {
          "base_uri": "https://localhost:8080/"
        },
        "id": "9EK7t4XnIDgC",
        "outputId": "9ed74a0e-9568-45d6-e04f-044104f283e6"
      },
      "execution_count": 17,
      "outputs": [
        {
          "output_type": "stream",
          "name": "stdout",
          "text": [
            "[ 81 100] \n",
            " [121 144] \n",
            " [[ 1  4]\n",
            " [ 9 25]] \n",
            " [[25 36]\n",
            " [49 64]]\n"
          ]
        }
      ]
    },
    {
      "cell_type": "code",
      "source": [
        "# Part 3\n",
        "# Ques 5\n",
        "import numpy as np\n",
        "v = np.array([9,10])\n",
        "w = np.array([11,12])\n",
        "x = np.array([[1,2],\n",
        "              [3,5]])\n",
        "y = np.array([[5,6]\n",
        "            , [7,8]])\n",
        "\n",
        "result1 = np.dot(v,w)\n",
        "result2 = np.dot(x,v)\n",
        "result3 =np.dot(x,y)\n",
        "\n",
        "print(result1)\n",
        "print(result2)\n",
        "print(result3)"
      ],
      "metadata": {
        "colab": {
          "base_uri": "https://localhost:8080/"
        },
        "id": "8HhhbpQpIuGS",
        "outputId": "d884ff7c-2601-4aa6-e4b8-9231d0d7242d"
      },
      "execution_count": 18,
      "outputs": [
        {
          "output_type": "stream",
          "name": "stdout",
          "text": [
            "219\n",
            "[29 77]\n",
            "[[19 22]\n",
            " [50 58]]\n"
          ]
        }
      ]
    },
    {
      "cell_type": "code",
      "source": [
        "# Part 3\n",
        "# Ques 6\n",
        "import numpy as np\n",
        "v = np.array([9,10])\n",
        "w = np.array([11,12])\n",
        "x = np.array([[1,2],\n",
        "              [3,5]])\n",
        "y = np.array([[5,6]\n",
        "            , [7,8]])\n",
        "result1 = np.concatenate((v,w))\n",
        "result2 = np.concatenate((x,y),axis = 1)\n",
        "print(result1)\n",
        "print(result2)\n",
        "result3 = np.concatenate((x,v))\n",
        "print(result3)\n",
        "# dimensional error"
      ],
      "metadata": {
        "colab": {
          "base_uri": "https://localhost:8080/",
          "height": 280
        },
        "id": "lT7RO-5rIwdi",
        "outputId": "813c0c3a-4dbf-4003-d9be-5adf2d6f2f86"
      },
      "execution_count": 19,
      "outputs": [
        {
          "output_type": "stream",
          "name": "stdout",
          "text": [
            "[ 9 10 11 12]\n",
            "[[1 2 5 6]\n",
            " [3 5 7 8]]\n"
          ]
        },
        {
          "output_type": "error",
          "ename": "ValueError",
          "evalue": "all the input arrays must have same number of dimensions, but the array at index 0 has 2 dimension(s) and the array at index 1 has 1 dimension(s)",
          "traceback": [
            "\u001b[0;31m---------------------------------------------------------------------------\u001b[0m",
            "\u001b[0;31mValueError\u001b[0m                                Traceback (most recent call last)",
            "\u001b[0;32m<ipython-input-19-36d3e7135bb0>\u001b[0m in \u001b[0;36m<cell line: 14>\u001b[0;34m()\u001b[0m\n\u001b[1;32m     12\u001b[0m \u001b[0mprint\u001b[0m\u001b[0;34m(\u001b[0m\u001b[0mresult1\u001b[0m\u001b[0;34m)\u001b[0m\u001b[0;34m\u001b[0m\u001b[0;34m\u001b[0m\u001b[0m\n\u001b[1;32m     13\u001b[0m \u001b[0mprint\u001b[0m\u001b[0;34m(\u001b[0m\u001b[0mresult2\u001b[0m\u001b[0;34m)\u001b[0m\u001b[0;34m\u001b[0m\u001b[0;34m\u001b[0m\u001b[0m\n\u001b[0;32m---> 14\u001b[0;31m \u001b[0mresult3\u001b[0m \u001b[0;34m=\u001b[0m \u001b[0mnp\u001b[0m\u001b[0;34m.\u001b[0m\u001b[0mconcatenate\u001b[0m\u001b[0;34m(\u001b[0m\u001b[0;34m(\u001b[0m\u001b[0mx\u001b[0m\u001b[0;34m,\u001b[0m\u001b[0mv\u001b[0m\u001b[0;34m)\u001b[0m\u001b[0;34m)\u001b[0m\u001b[0;34m\u001b[0m\u001b[0;34m\u001b[0m\u001b[0m\n\u001b[0m\u001b[1;32m     15\u001b[0m \u001b[0mprint\u001b[0m\u001b[0;34m(\u001b[0m\u001b[0mresult3\u001b[0m\u001b[0;34m)\u001b[0m\u001b[0;34m\u001b[0m\u001b[0;34m\u001b[0m\u001b[0m\n\u001b[1;32m     16\u001b[0m \u001b[0;31m# dimensional error\u001b[0m\u001b[0;34m\u001b[0m\u001b[0;34m\u001b[0m\u001b[0m\n",
            "\u001b[0;31mValueError\u001b[0m: all the input arrays must have same number of dimensions, but the array at index 0 has 2 dimension(s) and the array at index 1 has 1 dimension(s)"
          ]
        }
      ]
    },
    {
      "cell_type": "code",
      "source": [
        "# Part 3\n",
        "# Ques 7\n",
        "import numpy as np\n",
        "v = np.array([9,10])\n",
        "w = np.array([11,12])\n",
        "x = np.array([[1,2],\n",
        "              [3,5]])\n",
        "y = np.array([[5,6]\n",
        "            , [7,8]])\n",
        "result3 = np.concatenate((x,v))\n",
        "print(result3)\n",
        "# dimensional error"
      ],
      "metadata": {
        "colab": {
          "base_uri": "https://localhost:8080/",
          "height": 228
        },
        "id": "VfgsjP_oIzGn",
        "outputId": "dc954403-5991-42ce-f3ef-6b21aa58da19"
      },
      "execution_count": 20,
      "outputs": [
        {
          "output_type": "error",
          "ename": "ValueError",
          "evalue": "all the input arrays must have same number of dimensions, but the array at index 0 has 2 dimension(s) and the array at index 1 has 1 dimension(s)",
          "traceback": [
            "\u001b[0;31m---------------------------------------------------------------------------\u001b[0m",
            "\u001b[0;31mValueError\u001b[0m                                Traceback (most recent call last)",
            "\u001b[0;32m<ipython-input-20-0c13995af9a1>\u001b[0m in \u001b[0;36m<cell line: 10>\u001b[0;34m()\u001b[0m\n\u001b[1;32m      8\u001b[0m y = np.array([[5,6]\n\u001b[1;32m      9\u001b[0m             , [7,8]])\n\u001b[0;32m---> 10\u001b[0;31m \u001b[0mresult3\u001b[0m \u001b[0;34m=\u001b[0m \u001b[0mnp\u001b[0m\u001b[0;34m.\u001b[0m\u001b[0mconcatenate\u001b[0m\u001b[0;34m(\u001b[0m\u001b[0;34m(\u001b[0m\u001b[0mx\u001b[0m\u001b[0;34m,\u001b[0m\u001b[0mv\u001b[0m\u001b[0;34m)\u001b[0m\u001b[0;34m)\u001b[0m\u001b[0;34m\u001b[0m\u001b[0;34m\u001b[0m\u001b[0m\n\u001b[0m\u001b[1;32m     11\u001b[0m \u001b[0mprint\u001b[0m\u001b[0;34m(\u001b[0m\u001b[0mresult3\u001b[0m\u001b[0;34m)\u001b[0m\u001b[0;34m\u001b[0m\u001b[0;34m\u001b[0m\u001b[0m\n\u001b[1;32m     12\u001b[0m \u001b[0;31m# dimensional error\u001b[0m\u001b[0;34m\u001b[0m\u001b[0;34m\u001b[0m\u001b[0m\n",
            "\u001b[0;31mValueError\u001b[0m: all the input arrays must have same number of dimensions, but the array at index 0 has 2 dimension(s) and the array at index 1 has 1 dimension(s)"
          ]
        }
      ]
    },
    {
      "cell_type": "code",
      "source": [
        "# Part 4\n",
        "# QUes 1\n",
        "    #  part 1\n",
        "import numpy as np\n",
        "A = np.array([[3,4],[7,8]])\n",
        "B = np.array([[5,3],[2,1]])\n",
        "A_inv=np.linalg.inv(A)\n",
        "result = np.dot(A_inv,A)\n",
        "result = np.round(result, decimals=10)\n",
        "I = np.eye(2,2)\n",
        "# print(I)\n",
        "if np.allclose(result,I) :\n",
        "    print(\"Equal\")\n",
        "else:\n",
        "    print(\"Not equal\")"
      ],
      "metadata": {
        "colab": {
          "base_uri": "https://localhost:8080/"
        },
        "id": "7vevF8WZI2OQ",
        "outputId": "776d2507-1945-4f3c-cb2b-fc08b104bf5c"
      },
      "execution_count": 21,
      "outputs": [
        {
          "output_type": "stream",
          "name": "stdout",
          "text": [
            "Equal\n"
          ]
        }
      ]
    },
    {
      "cell_type": "code",
      "source": [
        "# Part 4\n",
        "#    part  2\n",
        "import numpy as np\n",
        "A = np.array([[3,4],[7,8]])\n",
        "B = np.array([[5,3],[2,1]])\n",
        "res1 = np.matmul(A,B)\n",
        "res2 = np.matmul(B,A)\n",
        "if np.allclose(res1,res2):\n",
        "    print(\"Equal\")\n",
        "else:\n",
        "    print(\"Not equal\")"
      ],
      "metadata": {
        "colab": {
          "base_uri": "https://localhost:8080/"
        },
        "id": "QhFh6y7sI-k8",
        "outputId": "b40d51bf-6a77-4d18-fa24-68a429beda77"
      },
      "execution_count": 22,
      "outputs": [
        {
          "output_type": "stream",
          "name": "stdout",
          "text": [
            "Not equal\n"
          ]
        }
      ]
    },
    {
      "cell_type": "code",
      "source": [
        "# Part 4\n",
        " # Part 3\n",
        "import numpy as np\n",
        "A = np.array([[3,4],[7,8]])\n",
        "B = np.array([[5,3],[2,1]])\n",
        "res1 = np.matmul(A,B)\n",
        "transpAB = np.transpose(res1)\n",
        "transpA = np.transpose(A)\n",
        "transpB = np.transpose(B)\n",
        "res2 = np.matmul(transpB,transpA)\n",
        "if np.allclose(transpAB,res2):\n",
        "        print(\"Equal\")\n",
        "else:\n",
        "        print(\"Not equal\")"
      ],
      "metadata": {
        "colab": {
          "base_uri": "https://localhost:8080/"
        },
        "id": "k5L4GfmjJCd1",
        "outputId": "2a866adc-d773-4c22-cb91-5d357255224f"
      },
      "execution_count": 23,
      "outputs": [
        {
          "output_type": "stream",
          "name": "stdout",
          "text": [
            "Equal\n"
          ]
        }
      ]
    },
    {
      "cell_type": "code",
      "source": [
        "# Part 4\n",
        "# Ques 2 and 3\n",
        "import numpy as np\n",
        "A= ([[2,-3,1],\n",
        "    [1,-1,2],\n",
        "    [3,1,-1]])\n",
        "\n",
        "B= ([-1],\n",
        "    [-3],\n",
        "    [9])\n",
        "\n",
        "A_inv = np.linalg.inv(A)\n",
        "res = np.dot(A_inv,B)\n",
        "print(\"The solution is: \")\n",
        "print(res)"
      ],
      "metadata": {
        "colab": {
          "base_uri": "https://localhost:8080/"
        },
        "id": "Tk1FEsATJEaT",
        "outputId": "ee7bd94c-eb4b-4045-bb8b-165b9a42b834"
      },
      "execution_count": 1,
      "outputs": [
        {
          "output_type": "stream",
          "name": "stdout",
          "text": [
            "The solution is: \n",
            "[[ 2.]\n",
            " [ 1.]\n",
            " [-2.]]\n"
          ]
        }
      ]
    },
    {
      "cell_type": "code",
      "source": [],
      "metadata": {
        "id": "FdCiUMuDJG1B"
      },
      "execution_count": null,
      "outputs": []
    }
  ]
}